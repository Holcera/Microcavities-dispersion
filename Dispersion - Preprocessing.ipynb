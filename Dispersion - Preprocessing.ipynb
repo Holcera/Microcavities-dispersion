{
 "cells": [
  {
   "cell_type": "markdown",
   "metadata": {},
   "source": [
    "### Loading useful packages"
   ]
  },
  {
   "cell_type": "code",
   "execution_count": null,
   "metadata": {},
   "outputs": [],
   "source": [
    "import os, glob, gc\n",
    "import itertools\n",
    "import progressbar\n",
    "import numpy as np\n",
    "import pandas as pd\n",
    "import hvplot.pandas\n",
    "import seaborn as sns\n",
    "import pyLPD.MLtools as mlt\n",
    "\n",
    "from matplotlib import rcParams\n",
    "from matplotlib import pyplot as plt\n",
    "from matplotlib.widgets import Slider\n",
    "from sympy import symbols, sqrt, diff, lambdify\n",
    "from scipy import constants, interpolate, signal, optimize\n",
    "\n",
    "π = constants.pi\n",
    "c = constants.c\n",
    "\n",
    "%run '/home/marvyn/GDrive/marvyn.inga@gmail.com/LPD_IFGW_UNICAMP/Python Scripts/cprint.py'"
   ]
  },
  {
   "cell_type": "markdown",
   "metadata": {},
   "source": [
    "### Customizing plots\n",
    "We used **rcParams** to set figures format."
   ]
  },
  {
   "cell_type": "code",
   "execution_count": null,
   "metadata": {},
   "outputs": [],
   "source": [
    "rcParams['font.family'] = 'sans-serif'\n",
    "rcParams['font.sans-serif'] = ['Arial']\n",
    "rcParams['font.size'] = '18'\n",
    "rcParams['font.style'] = 'normal'\n",
    "rcParams['font.weight'] = 'medium'\n",
    "rcParams['pdf.fonttype'] = '42'\n",
    "\n",
    "rcParams['grid.linestyle'] = ':'\n",
    "rcParams['grid.linewidth'] = 1.5\n",
    "\n",
    "rcParams['lines.linewidth'] = 2.0\n",
    "\n",
    "# rcParams[\"figure.figsize\"] = [6.4, 4.8]\n",
    "# rcParams['figure.autolayout'] = True\n",
    "\n",
    "# rcParams['xtick.direction'] = 'in'\n",
    "# rcParams['ytick.direction'] = 'in'"
   ]
  },
  {
   "cell_type": "markdown",
   "metadata": {},
   "source": [
    "<br/><br/><br/><br/>"
   ]
  },
  {
   "cell_type": "markdown",
   "metadata": {},
   "source": [
    "---\n",
    "# 1. Data preprocessing\n",
    "---"
   ]
  },
  {
   "cell_type": "markdown",
   "metadata": {},
   "source": [
    "### Fiber-MZI dispersion parameters\n",
    "To build an absolute frequency ruler is necessary to make a correction considering the fiber-MZI dispersion. For this, some properties of the silica SMF-28 fiber are considered. We used the SymPy package to create symbolic equations and evaluate these for any wavelength value. The zero dispersion wavelength ($\\lambda_0$) and the zero dispersion slope ($S_0$) are valid only for C-Band (1530-1565nm).\n",
    "\n",
    "References:\n",
    "- [Fiber SMF28](https://www.corning.com/media/worldwide/coc/documents/Fiber/SMF-28%20Ultra.pdf)"
   ]
  },
  {
   "cell_type": "code",
   "execution_count": null,
   "metadata": {},
   "outputs": [],
   "source": [
    "B1, B2, B3 = 0.6961663, 0.4079426, 0.8974794\n",
    "C1, C2, C3 = 68.4043, 116.2414, 9896.161 # in nm\n",
    "\n",
    "x = symbols('x')\n",
    "n = sqrt(1+(B1*x**2)/(x**2-C1**2)+(B2*x**2)/(x**2-C2**2)+(B3*x**2)/(x**2-C3**2))\n",
    "ng = n - x*diff(n, x)\n",
    "\n",
    "L = 1.49e-3 # in km\n",
    "print('ΔL_mzi = {0:.3} m'.format(1e3*L))\n",
    "\n",
    "#--------------------------------\n",
    "S0 = 0.082 # 0.082(3) ps/(nm².km)\n",
    "Lamb0 = 1280 # 1280(40) nm\n",
    "\n",
    "D = S0/4*(x-Lamb0**4/x**3) # in ps/(nm.km)\n",
    "\n",
    "β1 = 1e15*(ng/c) # ps/km\n",
    "D1_mzi = 1/β1/L # in THz\n",
    "\n",
    "β2 = -1e3*(x**2/2/π/c)*D # in ps²/km\n",
    "D2_mzi = -(2*π*β2/β1)*(1/β1/L)**2 # in THz\n",
    "\n",
    "β3 = 1e6*x**3/(2*π*c)**2*(2*D+x*S0) # in ps³/km\n",
    "D3_mzi = (4*π**2/L**3/β1**5)*(3*β2**2-β1*β3) # in THz"
   ]
  },
  {
   "cell_type": "markdown",
   "metadata": {},
   "source": [
    "### Listing **.parq** format data\n",
    "**Parquet** is a columnar storage format that allows compressing data. It is built to support very efficient compression and encoding schemes. When compared with a **.mat** format there was a reduction by around 50% in disk storage space."
   ]
  },
  {
   "cell_type": "code",
   "execution_count": null,
   "metadata": {},
   "outputs": [],
   "source": [
    "path = '/home/marvyn/GDrive/m144595@dac.unicamp.br/LPD Team/Experiments/Microspheres/2018-12-17_Sphere_Al2O3-120nm_Broad-and-QFactor/Broad/'\n",
    "flist = sorted(glob.glob(path + '*.parq'), key = os.path.getmtime)\n",
    "flist"
   ]
  },
  {
   "cell_type": "markdown",
   "metadata": {},
   "source": [
    "### Choosing and reading raw data"
   ]
  },
  {
   "cell_type": "code",
   "execution_count": null,
   "metadata": {},
   "outputs": [],
   "source": [
    "N = 0\n",
    "fname = flist[N]\n",
    "print('The the name of the chosen file is: \\n' + cprint.CSELECTED + fname + cprint.CEND)\n",
    "\n",
    "data_raw = pd.read_parquet(fname)\n",
    "print('Dataframe memory usage: \\n' + cprint.CSELECTED + f'{round(data_raw.shape[1]*data_raw.memory_usage(index=False).mean()/1e6,2)} MB' + cprint.CEND)\n",
    "data_raw.head()"
   ]
  },
  {
   "cell_type": "markdown",
   "metadata": {},
   "source": [
    "### Plotting raw data\n",
    "- We use the **mzi** to choose the limit points to crop the raw data. \n",
    "- The **lambda** data is used to identify the sense of the laser wavelength.\n",
    "- This script was made for **lambda growing**."
   ]
  },
  {
   "cell_type": "code",
   "execution_count": null,
   "metadata": {},
   "outputs": [],
   "source": [
    "# data_raw.hvplot.line(y=['mzi','lamb'], width=1500, height=300, datashade=True, hover=False)"
   ]
  },
  {
   "cell_type": "markdown",
   "metadata": {},
   "source": [
    "### Crooping data\n",
    "Crop raw data using the limit values found above. Reset data crop index and finally invert/flip it. It was made thinking about building the frequency (c/wavelength) rule."
   ]
  },
  {
   "cell_type": "code",
   "execution_count": null,
   "metadata": {},
   "outputs": [],
   "source": [
    "imin, imax = 1.16e6, 16.9e6\n",
    "\n",
    "data_crop = data_raw.iloc[int(imin):int(imax),:].copy()\n",
    "data_crop.reset_index(drop=True, inplace=True)\n",
    "data_crop = data_crop.iloc[::-1].reset_index(drop=True)\n",
    "\n",
    "print('Dataframe memory usage: \\n' + cprint.CSELECTED + f'{round(data_crop.shape[1]*data_crop.memory_usage(index=False).mean()/1e6,2)} MB' + cprint.CEND)\n",
    "data_crop.head()"
   ]
  },
  {
   "cell_type": "markdown",
   "metadata": {},
   "source": [
    "### Plotting cropped data"
   ]
  },
  {
   "cell_type": "code",
   "execution_count": null,
   "metadata": {},
   "outputs": [],
   "source": [
    "# data_crop.hvplot(y=['lamb','cav','mzi','hcn'], width=600, height=200, subplots=True, shared_axes=False, hover=False, datashade=True).cols(2)"
   ]
  },
  {
   "cell_type": "markdown",
   "metadata": {},
   "source": [
    "### Normalizing cavity data using the uppper envelope"
   ]
  },
  {
   "cell_type": "code",
   "execution_count": null,
   "metadata": {},
   "outputs": [],
   "source": [
    "ylower, data_crop['yupper_cav'] = mlt.envPeak(data_crop.cav.values, delta=0.07,  smooth=0.01, sg_order=3)\n",
    "data_crop['cav_n'] = data_crop.cav/(data_crop['yupper_cav'])\n",
    "\n",
    "# (data_crop.hvplot(y=['cav', 'yupper_cav'], width=600, height=300, hover=False, datashade=True) + data_crop.hvplot(y='cav_n', width=600, height=300, hover=False, datashade=True)).cols(2)"
   ]
  },
  {
   "cell_type": "markdown",
   "metadata": {},
   "source": [
    "### Normalizing MZI data using the lower and upper envelope"
   ]
  },
  {
   "cell_type": "code",
   "execution_count": null,
   "metadata": {},
   "outputs": [],
   "source": [
    "data_crop['ylower_mzi'], data_crop['yupper_mzi'] = mlt.envPeak(data_crop.mzi.values, delta=0.3, sg_order=0) # Finding lower and upper envelope\n",
    "data_crop['mzi_n'] = (data_crop.mzi-data_crop['ylower_mzi'])/(data_crop['yupper_mzi']-data_crop['ylower_mzi']) # Normalizing data\n",
    "\n",
    "# (data_crop.hvplot(y=['mzi', 'ylower_mzi', 'yupper_mzi'], width=700, height=300, hover=False, datashade=True) + data_crop.hvplot(y='mzi_n', width=700, height=300, hover=False, datashade=True)).cols(2)"
   ]
  },
  {
   "cell_type": "markdown",
   "metadata": {},
   "source": [
    "### Smoothing the normalized MZI using the [Savitzky Golay Filter](https://ieeexplore.ieee.org/stamp/stamp.jsp?tp=&arnumber=5888646)"
   ]
  },
  {
   "cell_type": "code",
   "execution_count": null,
   "metadata": {},
   "outputs": [],
   "source": [
    "data_crop['mzi_s'] = mlt.savitzky_golay(data_crop.mzi_n.values, window_size = 21, order = 1)\n",
    "\n",
    "nmax = 2e3 # Limiting plot to the 'nmax' first points\n",
    "\n",
    "plt.figure(figsize=(21,3))\n",
    "plt.scatter(data_crop.time[:int(nmax)], data_crop.mzi_n[:int(nmax)], c='b', s=50, alpha=0.5, label='Normalized')\n",
    "plt.plot(data_crop.time[:int(nmax)], data_crop.mzi_s[:int(nmax)], 'r', lw=2, label='Smoothed')\n",
    "plt.xlabel('Time (s)')\n",
    "plt.ylabel('Norm. Trans.')\n",
    "plt.legend(loc='center left', bbox_to_anchor=(1, 0.5))\n",
    "plt.xlim(data_crop.time[0], data_crop.time[nmax])\n",
    "\n",
    "plt.tight_layout()\n",
    "plt.show()"
   ]
  },
  {
   "cell_type": "markdown",
   "metadata": {},
   "source": [
    "### Finding peaks and valleys of the smoothed MZI which are necessary for building the frequency axis"
   ]
  },
  {
   "cell_type": "code",
   "execution_count": null,
   "metadata": {},
   "outputs": [],
   "source": [
    "delta = 0.5\n",
    "ind_max, maxtab, ind_min, mintab = mlt.peakdet(data_crop.mzi_s.values, delta)\n",
    "ind_peaks = np.sort(np.concatenate((ind_min, ind_max), axis=0))\n",
    "\n",
    "npeaks = 15 # Number of peaks to show in the plot\n",
    "plt.figure(figsize=(21,3))\n",
    "plt.plot(data_crop.time[:ind_max[npeaks]], data_crop.mzi_s[:ind_max[npeaks]], label='MZI')\n",
    "plt.scatter(data_crop.time[:ind_min[npeaks]][ind_min[:npeaks]], mintab[:npeaks], s=50, c='r', label='min')\n",
    "plt.scatter(data_crop.time[:ind_max[npeaks]][ind_max[:npeaks]], maxtab[:npeaks], s=50, c='g', label='max')\n",
    "plt.xlabel('Time (s)')\n",
    "plt.ylabel('Norm. Trans.')\n",
    "plt.legend(loc='center left', bbox_to_anchor=(1, 0.5))\n",
    "\n",
    "plt.tight_layout()\n",
    "plt.show()"
   ]
  },
  {
   "cell_type": "markdown",
   "metadata": {},
   "source": [
    "### Finding the HCN peaks to build an absolute frequency axis\n",
    "Datasheet:\n",
    "```bash\n",
    "/home/marvyn/GDrive/marvyn.inga@gmail.com/LPD_IFGW_UNICAMP/Datasheet/HCN-Peaks-NIST.pdf\n",
    "```"
   ]
  },
  {
   "cell_type": "code",
   "execution_count": null,
   "metadata": {},
   "outputs": [],
   "source": [
    "data_crop['hcn_n'] = (data_crop.hcn - data_crop.hcn.min())/(data_crop.hcn.max() - data_crop.hcn.min())\n",
    "\n",
    "ind_max_hcn, maxtab_hcn, ind_min_hcn, mintab_hcn = mlt.peakdet(data_crop.hcn_n.values, 0.2)\n",
    "\n",
    "plt.figure(figsize=(21,4))\n",
    "plt.plot(data_crop.time[ind_min_hcn[0]:ind_min_hcn[-1]], data_crop.hcn_n[ind_min_hcn[0]:ind_min_hcn[-1]], label='HCN')\n",
    "plt.scatter(data_crop.time[ind_min_hcn], mintab_hcn, c='g', s=50, label='min')\n",
    "\n",
    "ax = plt.gca()\n",
    "for ii in range(0,len(ind_min_hcn)):\n",
    "    ax.annotate(ii, (data_crop.time[ind_min_hcn[ii]], mintab_hcn[ii]), color='r', fontsize=15)\n",
    "\n",
    "plt.xlabel('Time (s)')\n",
    "plt.ylabel('Norm. Trans.')\n",
    "plt.legend(loc='center left', bbox_to_anchor=(1, 0.5))\n",
    "\n",
    "plt.tight_layout()\n",
    "plt.show()"
   ]
  },
  {
   "cell_type": "markdown",
   "metadata": {},
   "source": [
    "### Recognizing and choosing one HCN-peak to be the central frequency\n",
    "- Is recommended to use the peak 11 ($\\lambda_{11}$ = 1534.972 nm) of the HCN R-Branch as the central frequency. It is approximately the center of the TUNICS laser band used in experiments. \n",
    "- The *idx_central* is the index of the nearest MZI-peak from the 11 HCN-peak."
   ]
  },
  {
   "cell_type": "code",
   "execution_count": null,
   "metadata": {},
   "outputs": [],
   "source": [
    "peak_hcn = 37 # According to the plot above, this peak correspond to Peak 11 of the R-Branch (check in the HCN datasheet)\n",
    "\n",
    "λ0 = 1534.972 # in nm\n",
    "freq0 = 1e-3*c/λ0 # in THz\n",
    "print(f'λ0 = {λ0} nm, \\nν0 = {round(freq0,5)} THz')\n",
    "\n",
    "idx_central = np.argmin(np.abs(ind_min_hcn[peak_hcn] - ind_peaks))\n",
    "range_vector = (np.arange(len(ind_peaks)) - idx_central)/2 # Divided by 2 because the frequency distance between 2 MZI-peaks is equal to FSR/2"
   ]
  },
  {
   "cell_type": "markdown",
   "metadata": {},
   "source": [
    "### Constructing the frequency ruler based on interpolation\n",
    "- Considering the fiber-MZI dispersion is possible to obtain a more reliable frequency axis.\n",
    "- Dispersion parameters ($D_1$, $D_2$ and $D_3$) are evaluated in the central wavelength $\\lambda_0$.\n",
    "- Interpolate or estimate all time-data points within the range of **[data_crop.time[ind_peaks[-1]], data_crop.time[ind_peaks[0]]]**.\n",
    "- Reduce the range of data to interval before and make a copy."
   ]
  },
  {
   "cell_type": "code",
   "execution_count": null,
   "metadata": {},
   "outputs": [],
   "source": [
    "D1_mzi = lambdify(x, D1_mzi)(λ0) # FSR for MZI in THz\n",
    "D2_mzi = lambdify(x, D2_mzi)(λ0) # D2/2pi for MZI in THz\n",
    "D3_mzi = lambdify(x, D3_mzi)(λ0) # D3/2pi for MZI in THz\n",
    "\n",
    "print('MZI Parameters: \\n' + cprint.CSELECTED + 'D1_mzi = {:.4g} MHz, D2_mzi = {:.3g} Hz, D3_mzi = {:.3g} μHz'.format(1e6*D1_mzi, 1e12*D2_mzi, 1e18*D3_mzi) + cprint.CEND)\n",
    "\n",
    "freq_r = freq0 + D1_mzi*range_vector + D2_mzi/2*range_vector**2 + D3_mzi/6*range_vector**3\n",
    "\n",
    "freq_ifunc = interpolate.interp1d(data_crop.time[ind_peaks], freq_r)\n",
    "\n",
    "data_i = data_crop.iloc[min(ind_peaks):max(ind_peaks),:].copy()\n",
    "data_i['freq'] = freq_ifunc(data_i.time)\n",
    "data_i.reset_index(drop=True, inplace=True)\n",
    "\n",
    "print('Dataframe memory usage: \\n' + cprint.CSELECTED + f'{round(data_i.shape[1]*data_i.memory_usage(index=False).mean()/1e6,2)} MB' + cprint.CEND)\n",
    "data_i.head()"
   ]
  },
  {
   "cell_type": "markdown",
   "metadata": {},
   "source": [
    "### Important information about the frequency calibration\n",
    "- When frequency axis was properly built, the central frequency should be equal to **freq0** (check 2 cells above).\n",
    "- Calibrated frequency and wavelength bands should be compatible with Tunics laser band."
   ]
  },
  {
   "cell_type": "code",
   "execution_count": null,
   "metadata": {},
   "outputs": [],
   "source": [
    "print('Central Wavelength = {:.3f} nm'.format(1e-3*c/data_i.freq[ind_peaks[idx_central]]))\n",
    "print('Frequency Band = [{:.1f}, {:.1f}] THz'.format(data_i.freq.iloc[0], data_i.freq.iloc[-1]))\n",
    "print('Wavelength Band = [{:.1f}, {:.1f}] nm'.format(1e-3*c/data_i.freq.iloc[-1], 1e-3*c/data_i.freq.iloc[0]))\n",
    "print('Spectral Range = {:.1f} THz = {:.1f} nm'.format(data_i.freq.iloc[-1] - data_i.freq.iloc[0], 1e-3*c/data_i.freq.iloc[0] - 1e-3*c/data_i.freq.iloc[-1]))"
   ]
  },
  {
   "cell_type": "markdown",
   "metadata": {},
   "source": [
    "### Error building the frequency axis\n",
    "Is possible to check the quality of the calibration comparing the wavelength/frequency of each HCN-peak with the tabulated data in datasheet."
   ]
  },
  {
   "cell_type": "code",
   "execution_count": null,
   "metadata": {},
   "outputs": [],
   "source": [
    "plt.figure(figsize=(25,5))\n",
    "plt.plot(data_i.freq[ind_min_hcn[0]:ind_min_hcn[-1]], data_i.hcn_n[ind_min_hcn[0]:ind_min_hcn[-1]])\n",
    "plt.scatter(data_i.freq[ind_min_hcn], mintab_hcn)\n",
    "plt.title('According to the HCN-Datasheet, the wavelength of the 2 central peaks are 1543.11 nm e 1541.75 nm respectively')\n",
    "colors = itertools.cycle(['r', 'g', 'm'])\n",
    "\n",
    "ax = plt.gca()\n",
    "for ii in range(0,len(ind_min_hcn)):\n",
    "    ax.annotate('{:.1f} nm'.format(1e-3*c/data_i.freq[ind_min_hcn[ii]]), (data_i.freq[ind_min_hcn[ii]], mintab_hcn[ii]), color=next(colors), rotation=90)\n",
    "\n",
    "plt.grid(True)\n",
    "plt.xlabel('Frequency (THz)')\n",
    "plt.ylabel('Norm. Trans.')\n",
    "plt.show()"
   ]
  },
  {
   "cell_type": "markdown",
   "metadata": {},
   "source": [
    "### Plotting processed data"
   ]
  },
  {
   "cell_type": "code",
   "execution_count": null,
   "metadata": {},
   "outputs": [],
   "source": [
    "# data_i.hvplot(x='freq', y='cav_n', width=1500, height=250, hover=False, datashade=True)"
   ]
  },
  {
   "cell_type": "markdown",
   "metadata": {},
   "source": [
    "### Saving processed data\n",
    "- Only frequency, MZI and cavity data are enough to obtain information about cavity dispersion.\n",
    "- Create another dataframe only containing these data can reduce the memory usage.\n",
    "- The **brotli** compression option save the data using a little less space in storage disk when compared with other options."
   ]
  },
  {
   "cell_type": "code",
   "execution_count": null,
   "metadata": {},
   "outputs": [],
   "source": [
    "data = pd.DataFrame()\n",
    "\n",
    "data['freq'] = data_i.freq\n",
    "data['mzi'] = data_i.mzi_s\n",
    "data['cav'] = data_i.cav_n\n",
    "\n",
    "# data.to_parquet(fname[0:-5]+'-Processed.parq', compression='brotli')"
   ]
  },
  {
   "cell_type": "markdown",
   "metadata": {},
   "source": [
    "### Restart kernel"
   ]
  },
  {
   "cell_type": "code",
   "execution_count": null,
   "metadata": {},
   "outputs": [],
   "source": [
    "%reset -f"
   ]
  }
 ],
 "metadata": {
  "kernelspec": {
   "display_name": "Python 3",
   "language": "python",
   "name": "python3"
  },
  "language_info": {
   "codemirror_mode": {
    "name": "ipython",
    "version": 3
   },
   "file_extension": ".py",
   "mimetype": "text/x-python",
   "name": "python",
   "nbconvert_exporter": "python",
   "pygments_lexer": "ipython3",
   "version": "3.7.4"
  },
  "toc": {
   "nav_menu": {},
   "number_sections": true,
   "sideBar": true,
   "skip_h1_title": false,
   "title_cell": "Table of Contents",
   "title_sidebar": "Contents",
   "toc_cell": false,
   "toc_position": {},
   "toc_section_display": true,
   "toc_window_display": false
  }
 },
 "nbformat": 4,
 "nbformat_minor": 4
}
